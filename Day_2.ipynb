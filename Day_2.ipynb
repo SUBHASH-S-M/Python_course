{
  "nbformat": 4,
  "nbformat_minor": 0,
  "metadata": {
    "colab": {
      "name": "Day_2.ipynb",
      "provenance": [],
      "collapsed_sections": [],
      "authorship_tag": "ABX9TyOy0FAqU6S1fSPo9vNY7qeR",
      "include_colab_link": true
    },
    "kernelspec": {
      "name": "python3",
      "display_name": "Python 3"
    },
    "language_info": {
      "name": "python"
    }
  },
  "cells": [
    {
      "cell_type": "markdown",
      "metadata": {
        "id": "view-in-github",
        "colab_type": "text"
      },
      "source": [
        "<a href=\"https://colab.research.google.com/github/SUBHASH-S-M/Python_course/blob/main/Day_2.ipynb\" target=\"_parent\"><img src=\"https://colab.research.google.com/assets/colab-badge.svg\" alt=\"Open In Colab\"/></a>"
      ]
    },
    {
      "cell_type": "code",
      "metadata": {
        "id": "F2u021doscbx"
      },
      "source": [
        "# Looping\n",
        "#     --> for\n",
        "#     --> while\n",
        "    "
      ],
      "execution_count": null,
      "outputs": []
    },
    {
      "cell_type": "markdown",
      "metadata": {
        "id": "ZRPx57b0_XeY"
      },
      "source": [
        "# Type Casting\n"
      ]
    },
    {
      "cell_type": "code",
      "metadata": {
        "id": "FRhUmuUWsnsL"
      },
      "source": [
        "\n",
        "x=5.5\n",
        "print(int(x))\n"
      ],
      "execution_count": null,
      "outputs": []
    },
    {
      "cell_type": "code",
      "metadata": {
        "id": "zCNqtsSFx2os",
        "colab": {
          "base_uri": "https://localhost:8080/"
        },
        "outputId": "31765397-3b60-4ca2-9610-b5a31da20207"
      },
      "source": [
        "x=6\n",
        "print(float(x))"
      ],
      "execution_count": null,
      "outputs": [
        {
          "output_type": "stream",
          "name": "stdout",
          "text": [
            "6.0\n"
          ]
        }
      ]
    },
    {
      "cell_type": "code",
      "metadata": {
        "id": "iGwNSRCd9xdC",
        "colab": {
          "base_uri": "https://localhost:8080/"
        },
        "outputId": "5be425c4-a9ec-458a-ee3b-cbe968912de1"
      },
      "source": [
        "x=3\n",
        "print(str(x))"
      ],
      "execution_count": null,
      "outputs": [
        {
          "output_type": "stream",
          "name": "stdout",
          "text": [
            "3\n"
          ]
        }
      ]
    },
    {
      "cell_type": "code",
      "metadata": {
        "id": "FzBKvPQLztRV",
        "colab": {
          "base_uri": "https://localhost:8080/",
          "height": 186
        },
        "outputId": "834e7aaf-709d-4c1b-d2c0-42d170eb92a9"
      },
      "source": [
        "x='6.5'\n",
        "print(int(x))\n"
      ],
      "execution_count": null,
      "outputs": [
        {
          "output_type": "error",
          "ename": "ValueError",
          "evalue": "ignored",
          "traceback": [
            "\u001b[0;31m---------------------------------------------------------------------------\u001b[0m",
            "\u001b[0;31mValueError\u001b[0m                                Traceback (most recent call last)",
            "\u001b[0;32m<ipython-input-3-f0af54d90951>\u001b[0m in \u001b[0;36m<module>\u001b[0;34m()\u001b[0m\n\u001b[1;32m      1\u001b[0m \u001b[0mx\u001b[0m\u001b[0;34m=\u001b[0m\u001b[0;34m'6.5'\u001b[0m\u001b[0;34m\u001b[0m\u001b[0;34m\u001b[0m\u001b[0m\n\u001b[0;32m----> 2\u001b[0;31m \u001b[0mprint\u001b[0m\u001b[0;34m(\u001b[0m\u001b[0mint\u001b[0m\u001b[0;34m(\u001b[0m\u001b[0mx\u001b[0m\u001b[0;34m)\u001b[0m\u001b[0;34m)\u001b[0m\u001b[0;34m\u001b[0m\u001b[0;34m\u001b[0m\u001b[0m\n\u001b[0m",
            "\u001b[0;31mValueError\u001b[0m: invalid literal for int() with base 10: '6.5'"
          ]
        }
      ]
    },
    {
      "cell_type": "code",
      "metadata": {
        "id": "pI_tHok79Q8V",
        "colab": {
          "base_uri": "https://localhost:8080/"
        },
        "outputId": "cc3dfa3f-66db-43eb-bbc6-91aa79c911af"
      },
      "source": [
        "x='6.5'\n",
        "x=int(float(x))\n",
        "print(x)"
      ],
      "execution_count": null,
      "outputs": [
        {
          "output_type": "stream",
          "name": "stdout",
          "text": [
            "6\n"
          ]
        }
      ]
    },
    {
      "cell_type": "markdown",
      "metadata": {
        "id": "BLeM5cDY_pwg"
      },
      "source": [
        "# Looping While vs Loop\n",
        "\n"
      ]
    },
    {
      "cell_type": "code",
      "metadata": {
        "colab": {
          "base_uri": "https://localhost:8080/"
        },
        "id": "K7yTBjTl-XNj",
        "outputId": "8752b12f-238f-477e-e3a7-11fe607d3f31"
      },
      "source": [
        "# for loop\n",
        "\n",
        "start=0  #start is included\n",
        "stop=5   #stop is excluded\n",
        "step=1   # from start to stop what could be the inc/dec parameter \n",
        "for i in range(start,stop,step):\n",
        "  print(i)\n"
      ],
      "execution_count": null,
      "outputs": [
        {
          "output_type": "stream",
          "name": "stdout",
          "text": [
            "0\n",
            "1\n",
            "2\n",
            "3\n",
            "4\n"
          ]
        }
      ]
    },
    {
      "cell_type": "code",
      "metadata": {
        "colab": {
          "base_uri": "https://localhost:8080/"
        },
        "id": "LIIBhbUyhH9J",
        "outputId": "58ab480c-b14e-4529-dc1a-51881098cc18"
      },
      "source": [
        "for  i in range(1,7,2):\n",
        "  print(i)"
      ],
      "execution_count": null,
      "outputs": [
        {
          "output_type": "stream",
          "name": "stdout",
          "text": [
            "1\n",
            "3\n",
            "5\n"
          ]
        }
      ]
    },
    {
      "cell_type": "code",
      "metadata": {
        "id": "FOyBvMZLAF7C"
      },
      "source": [
        "#Print numbers form 0 to 5 using  for loop--- 1 3 5 7"
      ],
      "execution_count": null,
      "outputs": []
    },
    {
      "cell_type": "code",
      "metadata": {
        "id": "EThMDSH0A6hd"
      },
      "source": [
        "#Print numbers form 0 to 5 using while  loo"
      ],
      "execution_count": null,
      "outputs": []
    },
    {
      "cell_type": "code",
      "metadata": {
        "colab": {
          "base_uri": "https://localhost:8080/"
        },
        "id": "MtM0_PmUjDQt",
        "outputId": "a85a2df2-3ebd-44c5-ce14-f140a39fc0b6"
      },
      "source": [
        "i=1   # intialistion\n",
        "while(i<5):\n",
        "  print(i,end=\" \")\n",
        "  i+=1"
      ],
      "execution_count": null,
      "outputs": [
        {
          "output_type": "stream",
          "name": "stdout",
          "text": [
            "1 2 3 "
          ]
        }
      ]
    },
    {
      "cell_type": "markdown",
      "metadata": {
        "id": "G-P61EMmLTAH"
      },
      "source": [
        "# sep vs end   --> output formatting"
      ]
    },
    {
      "cell_type": "code",
      "metadata": {
        "id": "xvITGfl0Kx1W",
        "colab": {
          "base_uri": "https://localhost:8080/"
        },
        "outputId": "29114f2a-092c-4611-ce73-53841037397e"
      },
      "source": [
        "print(1,2,3,4,sep=\"#\")"
      ],
      "execution_count": null,
      "outputs": [
        {
          "output_type": "stream",
          "name": "stdout",
          "text": [
            "1#2#3#4\n"
          ]
        }
      ]
    },
    {
      "cell_type": "markdown",
      "metadata": {
        "id": "RzDgaEpm1ilJ"
      },
      "source": [
        "# Break Continue Pass >where to use\n",
        "\n"
      ]
    },
    {
      "cell_type": "code",
      "metadata": {
        "id": "pHIYvnpU1EQm",
        "colab": {
          "base_uri": "https://localhost:8080/"
        },
        "outputId": "cf42b26e-4928-483d-9672-e2b6ac23eeae"
      },
      "source": [
        "# break continue pass\n",
        "for i in range(0,3):\n",
        "  print(i)\n",
        "  if(i==2):\n",
        "    break\n",
        "  "
      ],
      "execution_count": null,
      "outputs": [
        {
          "output_type": "stream",
          "name": "stdout",
          "text": [
            "0\n",
            "1\n",
            "2\n"
          ]
        }
      ]
    },
    {
      "cell_type": "code",
      "metadata": {
        "id": "xHiKe5vz1TgY",
        "colab": {
          "base_uri": "https://localhost:8080/"
        },
        "outputId": "f6dd25cf-0940-4ea7-d95c-da6bce99720e"
      },
      "source": [
        "for i in range(0,4):\n",
        "  \n",
        "  if(i==2):\n",
        "    continue\n",
        "  print(i)\n",
        "  "
      ],
      "execution_count": null,
      "outputs": [
        {
          "output_type": "stream",
          "name": "stdout",
          "text": [
            "0\n",
            "1\n",
            "3\n"
          ]
        }
      ]
    },
    {
      "cell_type": "code",
      "metadata": {
        "id": "J0ejdGUu1aI1",
        "colab": {
          "base_uri": "https://localhost:8080/"
        },
        "outputId": "94b930f9-5bdc-4fce-b648-eb4374754e3d"
      },
      "source": [
        "for i in range(0,3):\n",
        "  for j in range(0,3):\n",
        "    if(j==2):\n",
        "      break\n",
        "    print(j)\n",
        "  print()"
      ],
      "execution_count": null,
      "outputs": [
        {
          "output_type": "stream",
          "name": "stdout",
          "text": [
            "0\n",
            "1\n",
            "\n",
            "0\n",
            "1\n",
            "\n",
            "0\n",
            "1\n",
            "\n"
          ]
        }
      ]
    },
    {
      "cell_type": "code",
      "metadata": {
        "id": "wi0dOPTX1ZUU"
      },
      "source": [
        "# if an number is divisble by 5 print fizz\n",
        "# if a number is divisble by 10 print buzz\n",
        "# if a number a divisible by both 5 and 10 print fizz buzz"
      ],
      "execution_count": null,
      "outputs": []
    },
    {
      "cell_type": "code",
      "metadata": {
        "id": "NW2Y6ieaMLnn"
      },
      "source": [
        "# print sum of number from 40 to 51 \n",
        "# both includes using for and while implementation"
      ],
      "execution_count": null,
      "outputs": []
    },
    {
      "cell_type": "code",
      "metadata": {
        "id": "C22w4mG4rhPy"
      },
      "source": [
        "#print number from 1 to 100 that are divisible by 9\n"
      ],
      "execution_count": null,
      "outputs": []
    },
    {
      "cell_type": "code",
      "metadata": {
        "id": "u6-5S54Wr8k1"
      },
      "source": [
        "#inputs are x1,y1 and x2,y2 find the slope m"
      ],
      "execution_count": null,
      "outputs": []
    },
    {
      "cell_type": "code",
      "metadata": {
        "id": "_lSzUM2lsIei"
      },
      "source": [
        ""
      ],
      "execution_count": null,
      "outputs": []
    },
    {
      "cell_type": "markdown",
      "metadata": {
        "id": "ws9e4yBUMQDk"
      },
      "source": [
        "# List"
      ]
    },
    {
      "cell_type": "code",
      "metadata": {
        "id": "__aNaqK5MTVV"
      },
      "source": [
        ""
      ],
      "execution_count": null,
      "outputs": []
    },
    {
      "cell_type": "code",
      "metadata": {
        "id": "IfqYrByJTZ68"
      },
      "source": [
        "# https://www.w3schools.com/python/python_ref_list.asp"
      ],
      "execution_count": null,
      "outputs": []
    },
    {
      "cell_type": "markdown",
      "metadata": {
        "id": "_zX8ctXcMUIO"
      },
      "source": [
        "# Tuple\n"
      ]
    },
    {
      "cell_type": "code",
      "metadata": {
        "id": "gV0cmRplMXLM"
      },
      "source": [
        ""
      ],
      "execution_count": null,
      "outputs": []
    },
    {
      "cell_type": "code",
      "metadata": {
        "id": "h-zHo9ikTewE"
      },
      "source": [
        "# https://www.w3schools.com/python/python_ref_tuple.asp"
      ],
      "execution_count": null,
      "outputs": []
    },
    {
      "cell_type": "markdown",
      "metadata": {
        "id": "v_yAff7YMXuJ"
      },
      "source": [
        "# Dict"
      ]
    },
    {
      "cell_type": "code",
      "metadata": {
        "id": "I0bLLpvmMcrL"
      },
      "source": [
        ""
      ],
      "execution_count": null,
      "outputs": []
    },
    {
      "cell_type": "code",
      "metadata": {
        "id": "FAeun0sXPr93"
      },
      "source": [
        "# https://www.w3schools.com/python/python_dictionaries.asp"
      ],
      "execution_count": null,
      "outputs": []
    },
    {
      "cell_type": "code",
      "metadata": {
        "id": "deVkEL2tT4De"
      },
      "source": [
        ""
      ],
      "execution_count": null,
      "outputs": []
    },
    {
      "cell_type": "markdown",
      "metadata": {
        "id": "2X5v3BupUI_n"
      },
      "source": [
        "# String Methods"
      ]
    },
    {
      "cell_type": "code",
      "metadata": {
        "id": "TeZ3A4obUNHK"
      },
      "source": [
        ""
      ],
      "execution_count": null,
      "outputs": []
    },
    {
      "cell_type": "code",
      "metadata": {
        "id": "rkmE9W_9UOef"
      },
      "source": [
        "# https://www.w3schools.com/python/python_ref_string.asp"
      ],
      "execution_count": null,
      "outputs": []
    },
    {
      "cell_type": "code",
      "metadata": {
        "id": "JH5pK-AmUPsz"
      },
      "source": [
        ""
      ],
      "execution_count": null,
      "outputs": []
    }
  ]
}