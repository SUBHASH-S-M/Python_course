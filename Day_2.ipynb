{
  "nbformat": 4,
  "nbformat_minor": 0,
  "metadata": {
    "colab": {
      "name": "Day_2.ipynb",
      "provenance": [],
      "collapsed_sections": [],
      "toc_visible": true,
      "authorship_tag": "ABX9TyNYQJGvYSNH2VQrbOLNqpnJ",
      "include_colab_link": true
    },
    "kernelspec": {
      "name": "python3",
      "display_name": "Python 3"
    },
    "language_info": {
      "name": "python"
    }
  },
  "cells": [
    {
      "cell_type": "markdown",
      "metadata": {
        "id": "view-in-github",
        "colab_type": "text"
      },
      "source": [
        "<a href=\"https://colab.research.google.com/github/SUBHASH-S-M/Python_course/blob/main/Day_2.ipynb\" target=\"_parent\"><img src=\"https://colab.research.google.com/assets/colab-badge.svg\" alt=\"Open In Colab\"/></a>"
      ]
    },
    {
      "cell_type": "code",
      "metadata": {
        "id": "F2u021doscbx"
      },
      "source": [
        "# Looping\n",
        "#     --> for\n",
        "#     --> while\n",
        "    "
      ],
      "execution_count": 1,
      "outputs": []
    },
    {
      "cell_type": "markdown",
      "metadata": {
        "id": "ZRPx57b0_XeY"
      },
      "source": [
        "# Type Casting\n"
      ]
    },
    {
      "cell_type": "code",
      "metadata": {
        "id": "FRhUmuUWsnsL"
      },
      "source": [
        "\n",
        "# x=5.5\n",
        "# print(int(x))\n"
      ],
      "execution_count": 11,
      "outputs": []
    },
    {
      "cell_type": "code",
      "metadata": {
        "id": "zCNqtsSFx2os"
      },
      "source": [
        "# x=6\n",
        "# print(float(x))"
      ],
      "execution_count": 3,
      "outputs": []
    },
    {
      "cell_type": "code",
      "metadata": {
        "id": "iGwNSRCd9xdC"
      },
      "source": [
        "# x=3\n",
        "# print(str(x))"
      ],
      "execution_count": 4,
      "outputs": []
    },
    {
      "cell_type": "code",
      "metadata": {
        "id": "FzBKvPQLztRV"
      },
      "source": [
        "# x='6.5'\n",
        "# print(int(x))\n"
      ],
      "execution_count": 5,
      "outputs": []
    },
    {
      "cell_type": "code",
      "metadata": {
        "id": "pI_tHok79Q8V"
      },
      "source": [
        "# x='6.5'\n",
        "# x=int(float(x))\n",
        "# print(x)"
      ],
      "execution_count": 6,
      "outputs": []
    },
    {
      "cell_type": "markdown",
      "metadata": {
        "id": "BLeM5cDY_pwg"
      },
      "source": [
        "# Looping While vs Loop\n",
        "\n"
      ]
    },
    {
      "cell_type": "code",
      "metadata": {
        "colab": {
          "base_uri": "https://localhost:8080/",
          "height": 55
        },
        "id": "K7yTBjTl-XNj",
        "outputId": "0010e1f5-1471-4949-bf8a-9c38fbc463bc"
      },
      "source": [
        "# for loop\n",
        "\"\"\"\n",
        "start=0  #start is included\n",
        "stop=5   #stop is excluded\n",
        "step=1   # from start to stop what could be the inc/dec parameter \n",
        "for i in range(start,stop,step):\n",
        "  print(i)\n",
        "  \"\"\""
      ],
      "execution_count": 7,
      "outputs": [
        {
          "output_type": "execute_result",
          "data": {
            "application/vnd.google.colaboratory.intrinsic+json": {
              "type": "string"
            },
            "text/plain": [
              "'\\nstart=0  #start is included\\nstop=5   #stop is excluded\\nstep=1   # from start to stop what could be the inc/dec parameter \\nfor i in range(start,stop,step):\\n  print(i)\\n  '"
            ]
          },
          "metadata": {},
          "execution_count": 7
        }
      ]
    },
    {
      "cell_type": "code",
      "metadata": {
        "id": "FOyBvMZLAF7C"
      },
      "source": [
        "#Print numbers form 0 to 5 using  for loop"
      ],
      "execution_count": 8,
      "outputs": []
    },
    {
      "cell_type": "code",
      "metadata": {
        "id": "EThMDSH0A6hd"
      },
      "source": [
        "#Print numbers form 0 to 5 using while  loop"
      ],
      "execution_count": 9,
      "outputs": []
    },
    {
      "cell_type": "markdown",
      "metadata": {
        "id": "G-P61EMmLTAH"
      },
      "source": [
        "# sep vs end   --> output formatting"
      ]
    },
    {
      "cell_type": "code",
      "metadata": {
        "id": "xvITGfl0Kx1W"
      },
      "source": [
        "sep=\" \"\n",
        "end=\" \""
      ],
      "execution_count": 10,
      "outputs": []
    },
    {
      "cell_type": "code",
      "metadata": {
        "id": "NW2Y6ieaMLnn"
      },
      "source": [
        ""
      ],
      "execution_count": 10,
      "outputs": []
    },
    {
      "cell_type": "markdown",
      "metadata": {
        "id": "ws9e4yBUMQDk"
      },
      "source": [
        "# List"
      ]
    },
    {
      "cell_type": "code",
      "metadata": {
        "id": "__aNaqK5MTVV"
      },
      "source": [
        ""
      ],
      "execution_count": 11,
      "outputs": []
    },
    {
      "cell_type": "code",
      "metadata": {
        "id": "IfqYrByJTZ68"
      },
      "source": [
        "# https://www.w3schools.com/python/python_ref_list.asp"
      ],
      "execution_count": 12,
      "outputs": []
    },
    {
      "cell_type": "markdown",
      "metadata": {
        "id": "_zX8ctXcMUIO"
      },
      "source": [
        "# Tuple\n"
      ]
    },
    {
      "cell_type": "code",
      "metadata": {
        "id": "gV0cmRplMXLM"
      },
      "source": [
        ""
      ],
      "execution_count": 12,
      "outputs": []
    },
    {
      "cell_type": "code",
      "metadata": {
        "id": "h-zHo9ikTewE"
      },
      "source": [
        "# https://www.w3schools.com/python/python_ref_tuple.asp"
      ],
      "execution_count": 13,
      "outputs": []
    },
    {
      "cell_type": "markdown",
      "metadata": {
        "id": "v_yAff7YMXuJ"
      },
      "source": [
        "# Dict"
      ]
    },
    {
      "cell_type": "code",
      "metadata": {
        "id": "I0bLLpvmMcrL"
      },
      "source": [
        ""
      ],
      "execution_count": 10,
      "outputs": []
    },
    {
      "cell_type": "code",
      "metadata": {
        "id": "FAeun0sXPr93"
      },
      "source": [
        "# https://www.w3schools.com/python/python_dictionaries.asp"
      ],
      "execution_count": 14,
      "outputs": []
    },
    {
      "cell_type": "code",
      "metadata": {
        "id": "deVkEL2tT4De"
      },
      "source": [
        ""
      ],
      "execution_count": null,
      "outputs": []
    },
    {
      "cell_type": "markdown",
      "metadata": {
        "id": "2X5v3BupUI_n"
      },
      "source": [
        "# String Methods"
      ]
    },
    {
      "cell_type": "code",
      "metadata": {
        "id": "TeZ3A4obUNHK"
      },
      "source": [
        ""
      ],
      "execution_count": 14,
      "outputs": []
    },
    {
      "cell_type": "code",
      "metadata": {
        "id": "rkmE9W_9UOef"
      },
      "source": [
        "# https://www.w3schools.com/python/python_ref_string.asp"
      ],
      "execution_count": 15,
      "outputs": []
    },
    {
      "cell_type": "code",
      "metadata": {
        "id": "JH5pK-AmUPsz"
      },
      "source": [
        ""
      ],
      "execution_count": null,
      "outputs": []
    }
  ]
}