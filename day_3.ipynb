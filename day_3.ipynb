{
  "nbformat": 4,
  "nbformat_minor": 0,
  "metadata": {
    "colab": {
      "name": "day_3.ipynb",
      "provenance": [],
      "toc_visible": true,
      "authorship_tag": "ABX9TyOQGd/5SLIecWeLVK+P1nCN",
      "include_colab_link": true
    },
    "kernelspec": {
      "name": "python3",
      "display_name": "Python 3"
    },
    "language_info": {
      "name": "python"
    }
  },
  "cells": [
    {
      "cell_type": "markdown",
      "metadata": {
        "id": "view-in-github",
        "colab_type": "text"
      },
      "source": [
        "<a href=\"https://colab.research.google.com/github/SUBHASH-S-M/Python_course/blob/main/day_3.ipynb\" target=\"_parent\"><img src=\"https://colab.research.google.com/assets/colab-badge.svg\" alt=\"Open In Colab\"/></a>"
      ]
    },
    {
      "cell_type": "markdown",
      "metadata": {
        "id": "J8aazVZ_LXWl"
      },
      "source": [
        "# Data Types (List,Tuples,Dcit)"
      ]
    },
    {
      "cell_type": "markdown",
      "metadata": {
        "id": "E3zGEfrtKhWT"
      },
      "source": [
        "# List"
      ]
    },
    {
      "cell_type": "code",
      "metadata": {
        "id": "ngEgnWwRKpRS"
      },
      "source": [
        ""
      ],
      "execution_count": null,
      "outputs": []
    },
    {
      "cell_type": "code",
      "metadata": {
        "id": "2xcZEdOeIgRc"
      },
      "source": [
        "# https://www.w3schools.com/python/python_ref_list.asp"
      ],
      "execution_count": null,
      "outputs": []
    },
    {
      "cell_type": "code",
      "metadata": {
        "id": "lSYlEpqmKpfK"
      },
      "source": [
        ""
      ],
      "execution_count": null,
      "outputs": []
    },
    {
      "cell_type": "markdown",
      "metadata": {
        "id": "bQ3g3ayGKqGZ"
      },
      "source": [
        "# Tuple"
      ]
    },
    {
      "cell_type": "code",
      "metadata": {
        "id": "dzesZ9HHKurA"
      },
      "source": [
        ""
      ],
      "execution_count": null,
      "outputs": []
    },
    {
      "cell_type": "code",
      "metadata": {
        "id": "163GeUdMKtnP"
      },
      "source": [
        "# https://www.w3schools.com/python/python_ref_tuple.asp"
      ],
      "execution_count": null,
      "outputs": []
    },
    {
      "cell_type": "markdown",
      "metadata": {
        "id": "_mbStrY8KvEx"
      },
      "source": [
        "# Dict"
      ]
    },
    {
      "cell_type": "code",
      "metadata": {
        "id": "4KvZFfh9K3MB",
        "colab": {
          "base_uri": "https://localhost:8080/"
        },
        "outputId": "faf996a0-713f-41ef-9e82-15281e9b673f"
      },
      "source": [
        "d={}\n",
        "d[(1,2)]=5\n",
        "d[(2,3)]=6\n",
        "print(d)\n",
        "# in  a an dic the key can be hasahble or unhashable \n",
        "# but key are shoud be hashable"
      ],
      "execution_count": 2,
      "outputs": [
        {
          "output_type": "stream",
          "name": "stdout",
          "text": [
            "{(1, 2): 5, (2, 3): 6}\n"
          ]
        }
      ]
    },
    {
      "cell_type": "code",
      "metadata": {
        "id": "ZSnJME71K00s"
      },
      "source": [
        "# https://www.w3schools.com/python/python_dictionaries.asp"
      ],
      "execution_count": null,
      "outputs": []
    },
    {
      "cell_type": "markdown",
      "metadata": {
        "id": "ZNmgbrVEK4Vr"
      },
      "source": [
        "# Tuple"
      ]
    },
    {
      "cell_type": "code",
      "metadata": {
        "id": "34cS2vHEK6W-"
      },
      "source": [
        "# https://www.w3schools.com/python/python_ref_string.asp"
      ],
      "execution_count": null,
      "outputs": []
    },
    {
      "cell_type": "code",
      "metadata": {
        "id": "tECFfw0wK88m"
      },
      "source": [
        ""
      ],
      "execution_count": null,
      "outputs": []
    }
  ]
}