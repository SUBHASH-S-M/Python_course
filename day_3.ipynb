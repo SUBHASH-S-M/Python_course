{
  "nbformat": 4,
  "nbformat_minor": 0,
  "metadata": {
    "colab": {
      "name": "day_3.ipynb",
      "provenance": [],
      "authorship_tag": "ABX9TyMQAHclKpq2hfNdu7VIV1j6",
      "include_colab_link": true
    },
    "kernelspec": {
      "name": "python3",
      "display_name": "Python 3"
    },
    "language_info": {
      "name": "python"
    }
  },
  "cells": [
    {
      "cell_type": "markdown",
      "metadata": {
        "id": "view-in-github",
        "colab_type": "text"
      },
      "source": [
        "<a href=\"https://colab.research.google.com/github/SUBHASH-S-M/Python_course/blob/main/day_3.ipynb\" target=\"_parent\"><img src=\"https://colab.research.google.com/assets/colab-badge.svg\" alt=\"Open In Colab\"/></a>"
      ]
    },
    {
      "cell_type": "markdown",
      "metadata": {
        "id": "J8aazVZ_LXWl"
      },
      "source": [
        "# Data Types (List,Tuples,Dcit)"
      ]
    },
    {
      "cell_type": "markdown",
      "metadata": {
        "id": "E3zGEfrtKhWT"
      },
      "source": [
        "# List"
      ]
    },
    {
      "cell_type": "code",
      "metadata": {
        "id": "ngEgnWwRKpRS"
      },
      "source": [
        "#Syntax\n",
        "list_name=[]\n",
        "list_name=list()"
      ],
      "execution_count": null,
      "outputs": []
    },
    {
      "cell_type": "code",
      "metadata": {
        "id": "yDI1AqzOyQQC"
      },
      "source": [
        "list_name.append(1)\n"
      ],
      "execution_count": null,
      "outputs": []
    },
    {
      "cell_type": "code",
      "metadata": {
        "colab": {
          "base_uri": "https://localhost:8080/"
        },
        "id": "Svf29bCNyk-0",
        "outputId": "75680d4d-8d1c-4fc4-a3b1-d5909e1291c0"
      },
      "source": [
        "list_name"
      ],
      "execution_count": null,
      "outputs": [
        {
          "output_type": "execute_result",
          "data": {
            "text/plain": [
              "[1, 1]"
            ]
          },
          "metadata": {},
          "execution_count": 6
        }
      ]
    },
    {
      "cell_type": "code",
      "metadata": {
        "id": "zezJ9t8syq2P"
      },
      "source": [
        "list_name.append([1,2])"
      ],
      "execution_count": null,
      "outputs": []
    },
    {
      "cell_type": "code",
      "metadata": {
        "colab": {
          "base_uri": "https://localhost:8080/"
        },
        "id": "xSNQwjuGywSF",
        "outputId": "0e6635c3-a0ed-42ab-b01b-6d6499d39ffd"
      },
      "source": [
        "list_name[2][0]  "
      ],
      "execution_count": null,
      "outputs": [
        {
          "output_type": "execute_result",
          "data": {
            "text/plain": [
              "1"
            ]
          },
          "metadata": {},
          "execution_count": 16
        }
      ]
    },
    {
      "cell_type": "code",
      "metadata": {
        "id": "r1ybwL0UzLZo"
      },
      "source": [
        "list_name.extend([3,4])"
      ],
      "execution_count": null,
      "outputs": []
    },
    {
      "cell_type": "code",
      "metadata": {
        "id": "2xcZEdOeIgRc"
      },
      "source": [
        "# https://www.w3schools.com/python/python_ref_list.asp"
      ],
      "execution_count": null,
      "outputs": []
    },
    {
      "cell_type": "code",
      "metadata": {
        "id": "lSYlEpqmKpfK",
        "colab": {
          "base_uri": "https://localhost:8080/"
        },
        "outputId": "5d31d06e-46f0-4420-faa2-1aa7c8fefc22"
      },
      "source": [
        "n=int(input(\"Enter the no of elements:\"))\n",
        "ele=[]\n",
        "for  i in range(n):\n",
        "  temp=int(input(\"Enter the number :\"))\n",
        "  ele.append(temp)\n",
        "print(ele)\n"
      ],
      "execution_count": null,
      "outputs": [
        {
          "output_type": "stream",
          "name": "stdout",
          "text": [
            "Enter the no of elements:3\n",
            "Enter the number :1\n",
            "Enter the number :5\n",
            "Enter the number :89\n",
            "[1, 5, 89]\n"
          ]
        }
      ]
    },
    {
      "cell_type": "code",
      "metadata": {
        "colab": {
          "base_uri": "https://localhost:8080/"
        },
        "id": "XBPsPFHu2VKj",
        "outputId": "72e63432-65a1-49cc-95ec-85e868ec72b7"
      },
      "source": [
        "for i in ele:\n",
        "  print(i,end=\",\")"
      ],
      "execution_count": null,
      "outputs": [
        {
          "output_type": "stream",
          "name": "stdout",
          "text": [
            "1,5,89,"
          ]
        }
      ]
    },
    {
      "cell_type": "code",
      "metadata": {
        "colab": {
          "base_uri": "https://localhost:8080/"
        },
        "id": "ZKZ5W5nl3BLY",
        "outputId": "87b717cc-4ec1-4c53-ae8e-3a7d73191052"
      },
      "source": [
        "for i in range(3):\n",
        "  print(ele[i])\n",
        "  "
      ],
      "execution_count": null,
      "outputs": [
        {
          "output_type": "stream",
          "name": "stdout",
          "text": [
            "1\n",
            "5\n",
            "89\n"
          ]
        }
      ]
    },
    {
      "cell_type": "code",
      "metadata": {
        "colab": {
          "base_uri": "https://localhost:8080/"
        },
        "id": "YagqW_og3UsM",
        "outputId": "2ddb567f-11fd-4d39-a12f-1b8a4fd826a3"
      },
      "source": [
        "for i in range(len(ele)):\n",
        "  print(ele[i])"
      ],
      "execution_count": null,
      "outputs": [
        {
          "output_type": "stream",
          "name": "stdout",
          "text": [
            "1\n",
            "5\n",
            "89\n"
          ]
        }
      ]
    },
    {
      "cell_type": "code",
      "metadata": {
        "colab": {
          "base_uri": "https://localhost:8080/",
          "height": 186
        },
        "id": "-hg-7xWS3v8s",
        "outputId": "acd1011c-a81c-4ac7-d518-d999c8d3ab26"
      },
      "source": [
        "ele.remove(89)\n",
        "print(ele)"
      ],
      "execution_count": null,
      "outputs": [
        {
          "output_type": "error",
          "ename": "ValueError",
          "evalue": "ignored",
          "traceback": [
            "\u001b[0;31m---------------------------------------------------------------------------\u001b[0m",
            "\u001b[0;31mValueError\u001b[0m                                Traceback (most recent call last)",
            "\u001b[0;32m<ipython-input-27-a2763ab57e6d>\u001b[0m in \u001b[0;36m<module>\u001b[0;34m()\u001b[0m\n\u001b[0;32m----> 1\u001b[0;31m \u001b[0mele\u001b[0m\u001b[0;34m.\u001b[0m\u001b[0mremove\u001b[0m\u001b[0;34m(\u001b[0m\u001b[0;36m89\u001b[0m\u001b[0;34m)\u001b[0m\u001b[0;34m\u001b[0m\u001b[0;34m\u001b[0m\u001b[0m\n\u001b[0m\u001b[1;32m      2\u001b[0m \u001b[0mprint\u001b[0m\u001b[0;34m(\u001b[0m\u001b[0mele\u001b[0m\u001b[0;34m)\u001b[0m\u001b[0;34m\u001b[0m\u001b[0;34m\u001b[0m\u001b[0m\n",
            "\u001b[0;31mValueError\u001b[0m: list.remove(x): x not in list"
          ]
        }
      ]
    },
    {
      "cell_type": "code",
      "metadata": {
        "id": "SoTU3UEf4eAS"
      },
      "source": [
        "ele.extend([1,2,4,1,5,1])"
      ],
      "execution_count": null,
      "outputs": []
    },
    {
      "cell_type": "code",
      "metadata": {
        "colab": {
          "base_uri": "https://localhost:8080/"
        },
        "id": "UaG4vcDd4mUY",
        "outputId": "8753deb3-0295-477c-a541-91f8366bfc1f"
      },
      "source": [
        "ele"
      ],
      "execution_count": null,
      "outputs": [
        {
          "output_type": "execute_result",
          "data": {
            "text/plain": [
              "[1, 5, 1, 2, 4, 5, 1, 1, 2, 4, 1, 5, 1, 1, 2, 4, 1, 5, 1]"
            ]
          },
          "metadata": {},
          "execution_count": 32
        }
      ]
    },
    {
      "cell_type": "code",
      "metadata": {
        "colab": {
          "base_uri": "https://localhost:8080/"
        },
        "id": "uESEZhrF4pUr",
        "outputId": "2edc118a-deee-41eb-c285-c1bd171504a3"
      },
      "source": [
        "temp=ele.pop(-1)\n",
        "temp"
      ],
      "execution_count": null,
      "outputs": [
        {
          "output_type": "execute_result",
          "data": {
            "text/plain": [
              "1"
            ]
          },
          "metadata": {},
          "execution_count": 36
        }
      ]
    },
    {
      "cell_type": "code",
      "metadata": {
        "colab": {
          "base_uri": "https://localhost:8080/"
        },
        "id": "apC037v05fcu",
        "outputId": "540ea407-d043-47a6-c409-c6376984d377"
      },
      "source": [
        "ele"
      ],
      "execution_count": null,
      "outputs": [
        {
          "output_type": "execute_result",
          "data": {
            "text/plain": [
              "[5, 1, 2, 4, 5, 1, 1, 2, 4, 1, 5, 1, 1, 2, 4]"
            ]
          },
          "metadata": {},
          "execution_count": 38
        }
      ]
    },
    {
      "cell_type": "code",
      "metadata": {
        "colab": {
          "base_uri": "https://localhost:8080/"
        },
        "id": "tLV7gAeQ5h_v",
        "outputId": "ef841152-64c4-4978-d3bc-3362b6c7eec0"
      },
      "source": [
        "while(1 in ele):\n",
        "  ele.remove(1)\n",
        "print(ele)"
      ],
      "execution_count": null,
      "outputs": [
        {
          "output_type": "stream",
          "name": "stdout",
          "text": [
            "[5, 2, 4, 5, 2, 4, 5, 2, 4]\n"
          ]
        }
      ]
    },
    {
      "cell_type": "code",
      "metadata": {
        "colab": {
          "base_uri": "https://localhost:8080/"
        },
        "id": "4sJs_xgL7WFA",
        "outputId": "86790da9-c23c-4653-d058-f7b559e2e5d0"
      },
      "source": [
        "ele.sort()\n",
        "ele"
      ],
      "execution_count": null,
      "outputs": [
        {
          "output_type": "execute_result",
          "data": {
            "text/plain": [
              "[2, 2, 2, 4, 4, 4, 5, 5, 5]"
            ]
          },
          "metadata": {},
          "execution_count": 43
        }
      ]
    },
    {
      "cell_type": "code",
      "metadata": {
        "colab": {
          "base_uri": "https://localhost:8080/"
        },
        "id": "kVl9vPSc7eho",
        "outputId": "1eb4f50b-dd57-4efd-876e-584c4c9f00b6"
      },
      "source": [
        "ele.sort(reverse=True)\n",
        "ele"
      ],
      "execution_count": null,
      "outputs": [
        {
          "output_type": "execute_result",
          "data": {
            "text/plain": [
              "[5, 5, 5, 4, 4, 4, 2, 2, 2]"
            ]
          },
          "metadata": {},
          "execution_count": 45
        }
      ]
    },
    {
      "cell_type": "code",
      "metadata": {
        "colab": {
          "base_uri": "https://localhost:8080/",
          "height": 186
        },
        "id": "ZstjisaJ7stz",
        "outputId": "5f7a72fa-685d-479d-a555-6b5bd58f035c"
      },
      "source": [
        "ele=reversed(ele)\n",
        "ele"
      ],
      "execution_count": null,
      "outputs": [
        {
          "output_type": "error",
          "ename": "TypeError",
          "evalue": "ignored",
          "traceback": [
            "\u001b[0;31m---------------------------------------------------------------------------\u001b[0m",
            "\u001b[0;31mTypeError\u001b[0m                                 Traceback (most recent call last)",
            "\u001b[0;32m<ipython-input-48-5608e43d853e>\u001b[0m in \u001b[0;36m<module>\u001b[0;34m()\u001b[0m\n\u001b[0;32m----> 1\u001b[0;31m \u001b[0mele\u001b[0m\u001b[0;34m=\u001b[0m\u001b[0mreversed\u001b[0m\u001b[0;34m(\u001b[0m\u001b[0mele\u001b[0m\u001b[0;34m)\u001b[0m\u001b[0;34m\u001b[0m\u001b[0;34m\u001b[0m\u001b[0m\n\u001b[0m\u001b[1;32m      2\u001b[0m \u001b[0mele\u001b[0m\u001b[0;34m\u001b[0m\u001b[0;34m\u001b[0m\u001b[0m\n",
            "\u001b[0;31mTypeError\u001b[0m: 'list_reverseiterator' object is not reversible"
          ]
        }
      ]
    },
    {
      "cell_type": "code",
      "metadata": {
        "colab": {
          "base_uri": "https://localhost:8080/"
        },
        "id": "n0u28WLy8WGO",
        "outputId": "a3da29a6-170e-497b-c686-137448635f43"
      },
      "source": [
        "ele=[i for i in range(4)]\n",
        "ele"
      ],
      "execution_count": null,
      "outputs": [
        {
          "output_type": "execute_result",
          "data": {
            "text/plain": [
              "[0, 1, 2, 3]"
            ]
          },
          "metadata": {},
          "execution_count": 52
        }
      ]
    },
    {
      "cell_type": "code",
      "metadata": {
        "colab": {
          "base_uri": "https://localhost:8080/"
        },
        "id": "_tGF0taH9Vgv",
        "outputId": "9bdd0f03-d48d-4f21-bfc7-1a1717bf5619"
      },
      "source": [
        "# list slicing \n",
        "print(ele[1:4])"
      ],
      "execution_count": null,
      "outputs": [
        {
          "output_type": "stream",
          "name": "stdout",
          "text": [
            "[1, 2, 3]\n"
          ]
        }
      ]
    },
    {
      "cell_type": "code",
      "metadata": {
        "colab": {
          "base_uri": "https://localhost:8080/"
        },
        "id": "ilFRjnaN-Ovp",
        "outputId": "b4986a23-ed9d-464e-a7ca-5a47e7eadd77"
      },
      "source": [
        "ele=[1,2,3,4,5,6,1,4,2,5,2]\n",
        "# count=0\n",
        "# for i in ele:\n",
        "#   if(i==1):\n",
        "#     count+=1\n",
        "# print(count)\n",
        "  \n",
        "for i in list(set(ele)):\n",
        " print(i,\" :\",ele.count(i))\n"
      ],
      "execution_count": null,
      "outputs": [
        {
          "output_type": "stream",
          "name": "stdout",
          "text": [
            "1  : 2\n",
            "2  : 3\n",
            "3  : 1\n",
            "4  : 2\n",
            "5  : 2\n",
            "6  : 1\n"
          ]
        }
      ]
    },
    {
      "cell_type": "code",
      "metadata": {
        "colab": {
          "base_uri": "https://localhost:8080/"
        },
        "id": "uowEhxZ8ASf6",
        "outputId": "29176f6a-288d-4e3f-c7f0-765dd45b7933"
      },
      "source": [
        "l=[1,2,3,4,6]\n",
        "l.pop(-1)\n",
        "position=8\n",
        "elemnt=5\n",
        "l.insert(position,elemnt)\n",
        "l"
      ],
      "execution_count": null,
      "outputs": [
        {
          "output_type": "execute_result",
          "data": {
            "text/plain": [
              "[1, 2, 3, 4, 5]"
            ]
          },
          "metadata": {},
          "execution_count": 65
        }
      ]
    },
    {
      "cell_type": "code",
      "metadata": {
        "colab": {
          "base_uri": "https://localhost:8080/"
        },
        "id": "Y41CAUEGBfpw",
        "outputId": "1c667445-f222-43f9-b8cb-db9a86f23dbe"
      },
      "source": [
        "l=[1,5,1,3,4,5,3]\n",
        "print(l.index(5))"
      ],
      "execution_count": null,
      "outputs": [
        {
          "output_type": "stream",
          "name": "stdout",
          "text": [
            "1\n"
          ]
        }
      ]
    },
    {
      "cell_type": "markdown",
      "metadata": {
        "id": "bQ3g3ayGKqGZ"
      },
      "source": [
        "# Tuple"
      ]
    },
    {
      "cell_type": "code",
      "metadata": {
        "id": "dzesZ9HHKurA"
      },
      "source": [
        ""
      ],
      "execution_count": null,
      "outputs": []
    },
    {
      "cell_type": "code",
      "metadata": {
        "id": "163GeUdMKtnP"
      },
      "source": [
        "# https://www.w3schools.com/python/python_ref_tuple.asp"
      ],
      "execution_count": null,
      "outputs": []
    },
    {
      "cell_type": "markdown",
      "metadata": {
        "id": "_mbStrY8KvEx"
      },
      "source": [
        "# Dict"
      ]
    },
    {
      "cell_type": "code",
      "metadata": {
        "id": "4KvZFfh9K3MB"
      },
      "source": [
        "d={}\n",
        "d[(1,2)]=5\n",
        "d[(2,3)]=6\n",
        "print(d)\n",
        "# in  a an dic the key can be hasahble or unhashable \n",
        "# but key are shoud be hashable"
      ],
      "execution_count": null,
      "outputs": []
    },
    {
      "cell_type": "code",
      "metadata": {
        "id": "ZSnJME71K00s"
      },
      "source": [
        "# https://www.w3schools.com/python/python_dictionaries.asp"
      ],
      "execution_count": null,
      "outputs": []
    },
    {
      "cell_type": "markdown",
      "metadata": {
        "id": "ZNmgbrVEK4Vr"
      },
      "source": [
        "# Tuple"
      ]
    },
    {
      "cell_type": "code",
      "metadata": {
        "id": "34cS2vHEK6W-"
      },
      "source": [
        "# https://www.w3schools.com/python/python_ref_string.asp"
      ],
      "execution_count": null,
      "outputs": []
    },
    {
      "cell_type": "code",
      "metadata": {
        "id": "tECFfw0wK88m"
      },
      "source": [
        ""
      ],
      "execution_count": null,
      "outputs": []
    },
    {
      "cell_type": "code",
      "metadata": {
        "colab": {
          "base_uri": "https://localhost:8080/"
        },
        "id": "2zqNZF5mJH_-",
        "outputId": "4069c886-32ee-4f2b-94ad-fc3601c2d4fa"
      },
      "source": [
        "s=\"12r43\"\n",
        "stack=[]\n",
        "re=[]\n",
        "for i in s:\n",
        "  if(i.isdigit()):\n",
        "    print(\"m\",i)\n",
        "    stack.append(i)\n",
        "    print(stack)\n",
        "  else: \n",
        "    print(len(stack))\n",
        "    if(len(stack)>0 ):\n",
        "      print(i)\n",
        "      temp=int(\"\".join(stack))\n",
        "      \n",
        "      re.append(temp)\n",
        "      print(re)\n",
        "      stack=[]\n",
        "if(len(stack)>0):\n",
        "  temp=int(\"\".join(stack))\n",
        "  re.append(temp)\n",
        "  \n",
        "\n",
        "print(sum(re))\n",
        "\n",
        "\n",
        "\n",
        "\n",
        "\n"
      ],
      "execution_count": null,
      "outputs": [
        {
          "output_type": "stream",
          "name": "stdout",
          "text": [
            "m 1\n",
            "['1']\n",
            "m 2\n",
            "['1', '2']\n",
            "2\n",
            "r\n",
            "[12]\n",
            "m 4\n",
            "['4']\n",
            "m 3\n",
            "['4', '3']\n",
            "55\n"
          ]
        }
      ]
    },
    {
      "cell_type": "code",
      "metadata": {
        "id": "fUN33MDWKGs9"
      },
      "source": [
        "s=input()\n",
        "stack=[]\n",
        "re=[]\n",
        "for i in s:\n",
        "  if(i.isdigit()):\n",
        "    stack.append(i)\n",
        "  else:\n",
        "    if(len(stack)>0):\n",
        "      temp=\"\".join(stack)\n",
        "      re.append(temp)\n",
        "      stack=[]\n",
        "      \n",
        "  \n"
      ],
      "execution_count": null,
      "outputs": []
    },
    {
      "cell_type": "code",
      "metadata": {
        "colab": {
          "base_uri": "https://localhost:8080/"
        },
        "id": "NZQDKl3oPWLh",
        "outputId": "55de61da-ef03-40d7-cde6-8e565aae2cac"
      },
      "source": [
        "#Running for loop in reverse\n",
        "l=[1,2,3,4,5,6]\n",
        "for i in range(len(l)-1,-1,-1):\n",
        "  print(l[i])"
      ],
      "execution_count": 3,
      "outputs": [
        {
          "output_type": "stream",
          "name": "stdout",
          "text": [
            "6\n",
            "5\n",
            "4\n",
            "3\n",
            "2\n",
            "1\n"
          ]
        }
      ]
    },
    {
      "cell_type": "code",
      "metadata": {
        "colab": {
          "base_uri": "https://localhost:8080/"
        },
        "id": "F0_gWTXjPzH7",
        "outputId": "e3e7ec2d-cd89-4356-de9f-6b22339dd82e"
      },
      "source": [
        "#reverse indexing or negative indexing \n",
        "l=[1,2,3,4,5,6]\n",
        "for i in range(-(len(l)),0,1):\n",
        "  print(l[i])"
      ],
      "execution_count": 5,
      "outputs": [
        {
          "output_type": "stream",
          "name": "stdout",
          "text": [
            "1\n",
            "2\n",
            "3\n",
            "4\n",
            "5\n",
            "6\n"
          ]
        }
      ]
    },
    {
      "cell_type": "code",
      "metadata": {
        "id": "ovF5KVC9PhHF"
      },
      "source": [
        ""
      ],
      "execution_count": null,
      "outputs": []
    }
  ]
}